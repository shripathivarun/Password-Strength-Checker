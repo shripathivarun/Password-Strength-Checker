{
  "nbformat": 4,
  "nbformat_minor": 0,
  "metadata": {
    "colab": {
      "provenance": [],
      "authorship_tag": "ABX9TyMSn+rNeONIIStPwWmBsJNy",
      "include_colab_link": true
    },
    "kernelspec": {
      "name": "python3",
      "display_name": "Python 3"
    },
    "language_info": {
      "name": "python"
    }
  },
  "cells": [
    {
      "cell_type": "markdown",
      "metadata": {
        "id": "view-in-github",
        "colab_type": "text"
      },
      "source": [
        "<a href=\"https://colab.research.google.com/github/shripathivarun/Password-Strength-Checker/blob/main/Passord_Strength_Checker.ipynb\" target=\"_parent\"><img src=\"https://colab.research.google.com/assets/colab-badge.svg\" alt=\"Open In Colab\"/></a>"
      ]
    },
    {
      "cell_type": "code",
      "source": [
        "import re\n",
        "\n",
        "# A tiny list of very common bad passwords\n",
        "COMMON_PASSWORDS = {\n",
        "    \"password\", \"123456\", \"123456789\", \"qwerty\",\n",
        "    \"abc123\", \"letmein\", \"welcome\", \"iloveyou\", \"admin\"\n",
        "}\n",
        "\n",
        "def check_strength(password: str) -> dict:\n",
        "    \"\"\"\n",
        "    Return a simple strength analysis for the given password.\n",
        "    Output: {score, label, suggestions}\n",
        "    \"\"\"\n",
        "    if not password:\n",
        "        return {\n",
        "            \"score\": 0,\n",
        "            \"label\": \"Empty\",\n",
        "            \"suggestions\": [\"Please enter a password\"]\n",
        "        }\n",
        "\n",
        "    score = 0\n",
        "    tips = []\n",
        "\n",
        "    # length matters\n",
        "    if len(password) < 8:\n",
        "        tips.append(\"Use at least 8 characters\")\n",
        "    elif len(password) >= 8:\n",
        "        score += 20\n",
        "    if len(password) >= 12:\n",
        "        score += 10\n",
        "    if len(password) >= 16:\n",
        "        score += 10\n",
        "\n",
        "    # character variety\n",
        "    if re.search(r\"[a-z]\", password):\n",
        "        score += 15\n",
        "    else:\n",
        "        tips.append(\"Add lowercase letters\")\n",
        "\n",
        "    if re.search(r\"[A-Z]\", password):\n",
        "        score += 15\n",
        "    else:\n",
        "        tips.append(\"Add uppercase letters\")\n",
        "\n",
        "    if re.search(r\"\\d\", password):\n",
        "        score += 15\n",
        "    else:\n",
        "        tips.append(\"Add numbers\")\n",
        "\n",
        "    if re.search(r\"[^A-Za-z0-9]\", password):\n",
        "        score += 15\n",
        "    else:\n",
        "        tips.append(\"Add special characters (!, @, #, etc.)\")\n",
        "\n",
        "    # obvious weak patterns\n",
        "    if password.lower() in COMMON_PASSWORDS:\n",
        "        score -= 30\n",
        "        tips.append(\"Avoid common passwords\")\n",
        "    if re.search(r\"(.)\\1\\1\", password):\n",
        "        score -= 10\n",
        "        tips.append(\"Avoid repeated characters like 'aaa'\")\n",
        "\n",
        "    # clamp between 0–100\n",
        "    score = max(0, min(score, 100))\n",
        "\n",
        "    # label buckets\n",
        "    if score < 25:\n",
        "        label = \"Very Weak\"\n",
        "    elif score < 50:\n",
        "        label = \"Weak\"\n",
        "    elif score < 70:\n",
        "        label = \"Fair\"\n",
        "    elif score < 90:\n",
        "        label = \"Strong\"\n",
        "    else:\n",
        "        label = \"Excellent\"\n",
        "\n",
        "    return {\"score\": score, \"label\": label, \"suggestions\": tips}\n",
        "\n",
        "\n",
        "if __name__ == \"__main__\":\n",
        "    pwd = input(\"Enter a password: \")\n",
        "    result = check_strength(pwd)\n",
        "\n",
        "    print(f\"\\nStrength: {result['label']} ({result['score']}/100)\")\n",
        "    if result[\"suggestions\"]:\n",
        "        print(\"Suggestions:\")\n",
        "        for tip in result[\"suggestions\"]:\n",
        "            print(f\" - {tip}\")\n"
      ],
      "metadata": {
        "colab": {
          "base_uri": "https://localhost:8080/"
        },
        "id": "V0ASpyB3U28p",
        "outputId": "8c35795e-6248-4309-d7a5-a609211c1c3a"
      },
      "execution_count": 2,
      "outputs": [
        {
          "output_type": "stream",
          "name": "stdout",
          "text": [
            "Enter a password: G7k!p2Qz@9rX\n",
            "\n",
            "Strength: Excellent (90/100)\n"
          ]
        }
      ]
    }
  ]
}