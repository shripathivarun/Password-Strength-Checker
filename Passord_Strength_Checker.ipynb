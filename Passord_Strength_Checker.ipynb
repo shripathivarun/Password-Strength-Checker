{
  "nbformat": 4,
  "nbformat_minor": 0,
  "metadata": {
    "colab": {
      "provenance": [],
      "authorship_tag": "ABX9TyPMvr6yMCiCDkGDXLMRfC8F",
      "include_colab_link": true
    },
    "kernelspec": {
      "name": "python3",
      "display_name": "Python 3"
    },
    "language_info": {
      "name": "python"
    }
  },
  "cells": [
    {
      "cell_type": "markdown",
      "metadata": {
        "id": "view-in-github",
        "colab_type": "text"
      },
      "source": [
        "<a href=\"https://colab.research.google.com/github/shripathivarun/Password-Strength-Checker/blob/main/Passord_Strength_Checker.ipynb\" target=\"_parent\"><img src=\"https://colab.research.google.com/assets/colab-badge.svg\" alt=\"Open In Colab\"/></a>"
      ]
    },
    {
      "cell_type": "code",
      "execution_count": 1,
      "metadata": {
        "colab": {
          "base_uri": "https://localhost:8080/"
        },
        "id": "gyXt3s7RSFRu",
        "outputId": "4e1c5aac-7f58-45ee-bf3a-08611cd9d9c1"
      },
      "outputs": [
        {
          "output_type": "stream",
          "name": "stdout",
          "text": [
            "Enter password: tharun123\n",
            "Strength: Fair (50/100)\n",
            "Suggestions:\n",
            " - Add uppercase letters\n",
            " - Add special characters (!, @, #, etc.)\n"
          ]
        }
      ],
      "source": [
        "import re\n",
        "\n",
        "# Common weak passwords\n",
        "COMMON = {\"password\", \"123456\", \"123456789\", \"qwerty\", \"abc123\", \"letmein\", \"welcome\", \"iloveyou\", \"admin\"}\n",
        "\n",
        "def password_strength(password: str) -> dict:\n",
        "    if not password:\n",
        "        return {\"score\": 0, \"label\": \"Empty\", \"suggestions\": [\"Enter a password\"]}\n",
        "\n",
        "    score = 0\n",
        "    suggestions = []\n",
        "\n",
        "    # Length check\n",
        "    length = len(password)\n",
        "    if length >= 8:\n",
        "        score += 20\n",
        "    else:\n",
        "        suggestions.append(\"Use at least 8 characters\")\n",
        "\n",
        "    if length >= 12:\n",
        "        score += 10\n",
        "    if length >= 16:\n",
        "        score += 10\n",
        "\n",
        "    # Character classes\n",
        "    if re.search(r\"[a-z]\", password):\n",
        "        score += 15\n",
        "    else:\n",
        "        suggestions.append(\"Add lowercase letters\")\n",
        "\n",
        "    if re.search(r\"[A-Z]\", password):\n",
        "        score += 15\n",
        "    else:\n",
        "        suggestions.append(\"Add uppercase letters\")\n",
        "\n",
        "    if re.search(r\"[0-9]\", password):\n",
        "        score += 15\n",
        "    else:\n",
        "        suggestions.append(\"Add digits\")\n",
        "\n",
        "    if re.search(r\"[^A-Za-z0-9]\", password):\n",
        "        score += 15\n",
        "    else:\n",
        "        suggestions.append(\"Add special characters (!, @, #, etc.)\")\n",
        "\n",
        "    # Common words\n",
        "    if password.lower() in COMMON:\n",
        "        score -= 30\n",
        "        suggestions.append(\"Avoid common passwords\")\n",
        "\n",
        "    # Repeated characters\n",
        "    if re.search(r\"(.)\\1\\1\", password):\n",
        "        score -= 10\n",
        "        suggestions.append(\"Avoid repeated characters (like aaa)\")\n",
        "\n",
        "    # Cap the score\n",
        "    score = max(0, min(100, score))\n",
        "\n",
        "    # Label\n",
        "    if score < 25:\n",
        "        label = \"Very Weak\"\n",
        "    elif score < 50:\n",
        "        label = \"Weak\"\n",
        "    elif score < 70:\n",
        "        label = \"Fair\"\n",
        "    elif score < 90:\n",
        "        label = \"Strong\"\n",
        "    else:\n",
        "        label = \"Excellent\"\n",
        "\n",
        "    return {\"score\": score, \"label\": label, \"suggestions\": suggestions}\n",
        "\n",
        "\n",
        "if __name__ == \"__main__\":\n",
        "    pwd = input(\"Enter password: \")\n",
        "    result = password_strength(pwd)\n",
        "    print(f\"Strength: {result['label']} ({result['score']}/100)\")\n",
        "    if result['suggestions']:\n",
        "        print(\"Suggestions:\")\n",
        "        for s in result['suggestions']:\n",
        "            print(\" -\", s)\n"
      ]
    }
  ]
}